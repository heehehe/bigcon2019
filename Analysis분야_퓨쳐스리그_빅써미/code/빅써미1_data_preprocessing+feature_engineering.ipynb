{
 "cells": [
  {
   "cell_type": "markdown",
   "metadata": {
    "colab_type": "text",
    "id": "Xqc2TUbEr5_Y"
   },
   "source": [
    "## 1. Data Preprocessing"
   ]
  },
  {
   "cell_type": "code",
   "execution_count": 2,
   "metadata": {
    "colab": {},
    "colab_type": "code",
    "id": "ngjBsN_HkgRG"
   },
   "outputs": [],
   "source": [
    "import pandas as pd\n",
    "import datetime as dt\n",
    "import numpy as np\n",
    "from IPython.display import Image"
   ]
  },
  {
   "cell_type": "code",
   "execution_count": 0,
   "metadata": {
    "colab": {},
    "colab_type": "code",
    "id": "_VhGEWIBTBAf"
   },
   "outputs": [],
   "source": [
    "## data 불러오기\n",
    "TRAIN = pd.read_csv('data/AFSNT.csv', encoding='CP949')\n",
    "TEST = pd.read_csv('data/AFSNT_DLY.csv', encoding='CP949')\n",
    "SCHEDULE = pd.read_csv('data/SFSNT.csv', encoding='CP949')"
   ]
  },
  {
   "cell_type": "code",
   "execution_count": 0,
   "metadata": {
    "colab": {
     "base_uri": "https://localhost:8080/",
     "height": 156
    },
    "colab_type": "code",
    "id": "215rhGPaUku0",
    "outputId": "a31400f9-91fe-4162-d03f-05423a77e759"
   },
   "outputs": [
    {
     "data": {
      "text/html": [
       "<div>\n",
       "<style scoped>\n",
       "    .dataframe tbody tr th:only-of-type {\n",
       "        vertical-align: middle;\n",
       "    }\n",
       "\n",
       "    .dataframe tbody tr th {\n",
       "        vertical-align: top;\n",
       "    }\n",
       "\n",
       "    .dataframe thead th {\n",
       "        text-align: right;\n",
       "    }\n",
       "</style>\n",
       "<table border=\"1\" class=\"dataframe\">\n",
       "  <thead>\n",
       "    <tr style=\"text-align: right;\">\n",
       "      <th></th>\n",
       "      <th>SDT_YY</th>\n",
       "      <th>SDT_MM</th>\n",
       "      <th>SDT_DD</th>\n",
       "      <th>SDT_DY</th>\n",
       "      <th>ARP</th>\n",
       "      <th>ODP</th>\n",
       "      <th>FLO</th>\n",
       "      <th>FLT</th>\n",
       "      <th>REG</th>\n",
       "      <th>AOD</th>\n",
       "      <th>IRR</th>\n",
       "      <th>STT</th>\n",
       "      <th>ATT</th>\n",
       "      <th>DLY</th>\n",
       "      <th>DRR</th>\n",
       "      <th>CNL</th>\n",
       "      <th>CNR</th>\n",
       "    </tr>\n",
       "  </thead>\n",
       "  <tbody>\n",
       "    <tr>\n",
       "      <th>0</th>\n",
       "      <td>2017</td>\n",
       "      <td>1</td>\n",
       "      <td>1</td>\n",
       "      <td>일</td>\n",
       "      <td>ARP3</td>\n",
       "      <td>ARP6</td>\n",
       "      <td>J</td>\n",
       "      <td>J1955</td>\n",
       "      <td>SEw3NzE4</td>\n",
       "      <td>D</td>\n",
       "      <td>N</td>\n",
       "      <td>10:05</td>\n",
       "      <td>10:32</td>\n",
       "      <td>N</td>\n",
       "      <td>NaN</td>\n",
       "      <td>N</td>\n",
       "      <td>NaN</td>\n",
       "    </tr>\n",
       "    <tr>\n",
       "      <th>1</th>\n",
       "      <td>2017</td>\n",
       "      <td>1</td>\n",
       "      <td>1</td>\n",
       "      <td>일</td>\n",
       "      <td>ARP3</td>\n",
       "      <td>ARP6</td>\n",
       "      <td>J</td>\n",
       "      <td>J1954</td>\n",
       "      <td>SEw3NzE4</td>\n",
       "      <td>A</td>\n",
       "      <td>N</td>\n",
       "      <td>9:30</td>\n",
       "      <td>9:31</td>\n",
       "      <td>N</td>\n",
       "      <td>NaN</td>\n",
       "      <td>N</td>\n",
       "      <td>NaN</td>\n",
       "    </tr>\n",
       "    <tr>\n",
       "      <th>2</th>\n",
       "      <td>2017</td>\n",
       "      <td>1</td>\n",
       "      <td>1</td>\n",
       "      <td>일</td>\n",
       "      <td>ARP3</td>\n",
       "      <td>ARP6</td>\n",
       "      <td>J</td>\n",
       "      <td>J1956</td>\n",
       "      <td>SEw3NzE4</td>\n",
       "      <td>A</td>\n",
       "      <td>N</td>\n",
       "      <td>12:45</td>\n",
       "      <td>13:03</td>\n",
       "      <td>N</td>\n",
       "      <td>NaN</td>\n",
       "      <td>N</td>\n",
       "      <td>NaN</td>\n",
       "    </tr>\n",
       "  </tbody>\n",
       "</table>\n",
       "</div>"
      ],
      "text/plain": [
       "   SDT_YY  SDT_MM  SDT_DD SDT_DY   ARP   ODP  ...    STT    ATT DLY  DRR CNL  CNR\n",
       "0    2017       1       1      일  ARP3  ARP6  ...  10:05  10:32   N  NaN   N  NaN\n",
       "1    2017       1       1      일  ARP3  ARP6  ...   9:30   9:31   N  NaN   N  NaN\n",
       "2    2017       1       1      일  ARP3  ARP6  ...  12:45  13:03   N  NaN   N  NaN\n",
       "\n",
       "[3 rows x 17 columns]"
      ]
     },
     "execution_count": 31,
     "metadata": {
      "tags": []
     },
     "output_type": "execute_result"
    }
   ],
   "source": [
    "TRAIN.head(3)"
   ]
  },
  {
   "cell_type": "code",
   "execution_count": 0,
   "metadata": {
    "colab": {
     "base_uri": "https://localhost:8080/",
     "height": 156
    },
    "colab_type": "code",
    "id": "zT6kFqJd3jKd",
    "outputId": "317e438f-9f29-47b1-e1b5-0298dc177dab"
   },
   "outputs": [
    {
     "data": {
      "text/html": [
       "<div>\n",
       "<style scoped>\n",
       "    .dataframe tbody tr th:only-of-type {\n",
       "        vertical-align: middle;\n",
       "    }\n",
       "\n",
       "    .dataframe tbody tr th {\n",
       "        vertical-align: top;\n",
       "    }\n",
       "\n",
       "    .dataframe thead th {\n",
       "        text-align: right;\n",
       "    }\n",
       "</style>\n",
       "<table border=\"1\" class=\"dataframe\">\n",
       "  <thead>\n",
       "    <tr style=\"text-align: right;\">\n",
       "      <th></th>\n",
       "      <th>SDT_YY</th>\n",
       "      <th>SDT_MM</th>\n",
       "      <th>SDT_DD</th>\n",
       "      <th>SDT_DY</th>\n",
       "      <th>ARP</th>\n",
       "      <th>ODP</th>\n",
       "      <th>FLO</th>\n",
       "      <th>FLT</th>\n",
       "      <th>AOD</th>\n",
       "      <th>STT</th>\n",
       "      <th>DLY</th>\n",
       "      <th>DLY_RATE</th>\n",
       "    </tr>\n",
       "  </thead>\n",
       "  <tbody>\n",
       "    <tr>\n",
       "      <th>0</th>\n",
       "      <td>2019</td>\n",
       "      <td>9</td>\n",
       "      <td>16</td>\n",
       "      <td>월</td>\n",
       "      <td>ARP1</td>\n",
       "      <td>ARP3</td>\n",
       "      <td>L</td>\n",
       "      <td>L1702</td>\n",
       "      <td>A</td>\n",
       "      <td>9:05</td>\n",
       "      <td>NaN</td>\n",
       "      <td>NaN</td>\n",
       "    </tr>\n",
       "    <tr>\n",
       "      <th>1</th>\n",
       "      <td>2019</td>\n",
       "      <td>9</td>\n",
       "      <td>16</td>\n",
       "      <td>월</td>\n",
       "      <td>ARP3</td>\n",
       "      <td>ARP1</td>\n",
       "      <td>L</td>\n",
       "      <td>L1702</td>\n",
       "      <td>D</td>\n",
       "      <td>7:55</td>\n",
       "      <td>NaN</td>\n",
       "      <td>NaN</td>\n",
       "    </tr>\n",
       "    <tr>\n",
       "      <th>2</th>\n",
       "      <td>2019</td>\n",
       "      <td>9</td>\n",
       "      <td>16</td>\n",
       "      <td>월</td>\n",
       "      <td>`</td>\n",
       "      <td>ARP3</td>\n",
       "      <td>L</td>\n",
       "      <td>L1720</td>\n",
       "      <td>A</td>\n",
       "      <td>14:40</td>\n",
       "      <td>NaN</td>\n",
       "      <td>NaN</td>\n",
       "    </tr>\n",
       "  </tbody>\n",
       "</table>\n",
       "</div>"
      ],
      "text/plain": [
       "   SDT_YY  SDT_MM  SDT_DD SDT_DY   ARP  ...    FLT AOD    STT DLY DLY_RATE\n",
       "0    2019       9      16      월  ARP1  ...  L1702   A   9:05 NaN      NaN\n",
       "1    2019       9      16      월  ARP3  ...  L1702   D   7:55 NaN      NaN\n",
       "2    2019       9      16      월     `  ...  L1720   A  14:40 NaN      NaN\n",
       "\n",
       "[3 rows x 12 columns]"
      ]
     },
     "execution_count": 33,
     "metadata": {
      "tags": []
     },
     "output_type": "execute_result"
    }
   ],
   "source": [
    "TEST.head(3)"
   ]
  },
  {
   "cell_type": "code",
   "execution_count": 0,
   "metadata": {
    "colab": {
     "base_uri": "https://localhost:8080/",
     "height": 224
    },
    "colab_type": "code",
    "id": "Lvn5BxDcZMad",
    "outputId": "d5d5113b-1814-4bdd-c8c2-77f28496b485"
   },
   "outputs": [
    {
     "name": "stderr",
     "output_type": "stream",
     "text": [
      "/usr/local/lib/python3.6/dist-packages/ipykernel_launcher.py:1: SettingWithCopyWarning: \n",
      "A value is trying to be set on a copy of a slice from a DataFrame\n",
      "\n",
      "See the caveats in the documentation: http://pandas.pydata.org/pandas-docs/stable/indexing.html#indexing-view-versus-copy\n",
      "  \"\"\"Entry point for launching an IPython kernel.\n"
     ]
    },
    {
     "data": {
      "text/html": [
       "<div>\n",
       "<style scoped>\n",
       "    .dataframe tbody tr th:only-of-type {\n",
       "        vertical-align: middle;\n",
       "    }\n",
       "\n",
       "    .dataframe tbody tr th {\n",
       "        vertical-align: top;\n",
       "    }\n",
       "\n",
       "    .dataframe thead th {\n",
       "        text-align: right;\n",
       "    }\n",
       "</style>\n",
       "<table border=\"1\" class=\"dataframe\">\n",
       "  <thead>\n",
       "    <tr style=\"text-align: right;\">\n",
       "      <th></th>\n",
       "      <th>SDT_YY</th>\n",
       "      <th>SDT_MM</th>\n",
       "      <th>SDT_DD</th>\n",
       "      <th>SDT_DY</th>\n",
       "      <th>ARP</th>\n",
       "      <th>ODP</th>\n",
       "      <th>FLO</th>\n",
       "      <th>FLT</th>\n",
       "      <th>AOD</th>\n",
       "      <th>STT</th>\n",
       "      <th>DLY</th>\n",
       "      <th>DLY_RATE</th>\n",
       "    </tr>\n",
       "  </thead>\n",
       "  <tbody>\n",
       "    <tr>\n",
       "      <th>0</th>\n",
       "      <td>2019</td>\n",
       "      <td>9</td>\n",
       "      <td>16</td>\n",
       "      <td>월</td>\n",
       "      <td>ARP1</td>\n",
       "      <td>ARP3</td>\n",
       "      <td>L</td>\n",
       "      <td>L1702</td>\n",
       "      <td>A</td>\n",
       "      <td>9:05</td>\n",
       "      <td>NaN</td>\n",
       "      <td>NaN</td>\n",
       "    </tr>\n",
       "    <tr>\n",
       "      <th>1</th>\n",
       "      <td>2019</td>\n",
       "      <td>9</td>\n",
       "      <td>16</td>\n",
       "      <td>월</td>\n",
       "      <td>ARP3</td>\n",
       "      <td>ARP1</td>\n",
       "      <td>L</td>\n",
       "      <td>L1702</td>\n",
       "      <td>D</td>\n",
       "      <td>7:55</td>\n",
       "      <td>NaN</td>\n",
       "      <td>NaN</td>\n",
       "    </tr>\n",
       "    <tr>\n",
       "      <th>2</th>\n",
       "      <td>2019</td>\n",
       "      <td>9</td>\n",
       "      <td>16</td>\n",
       "      <td>월</td>\n",
       "      <td>ARP1</td>\n",
       "      <td>ARP3</td>\n",
       "      <td>L</td>\n",
       "      <td>L1720</td>\n",
       "      <td>A</td>\n",
       "      <td>14:40</td>\n",
       "      <td>NaN</td>\n",
       "      <td>NaN</td>\n",
       "    </tr>\n",
       "  </tbody>\n",
       "</table>\n",
       "</div>"
      ],
      "text/plain": [
       "   SDT_YY  SDT_MM  SDT_DD SDT_DY   ARP  ...    FLT AOD    STT DLY DLY_RATE\n",
       "0    2019       9      16      월  ARP1  ...  L1702   A   9:05 NaN      NaN\n",
       "1    2019       9      16      월  ARP3  ...  L1702   D   7:55 NaN      NaN\n",
       "2    2019       9      16      월  ARP1  ...  L1720   A  14:40 NaN      NaN\n",
       "\n",
       "[3 rows x 12 columns]"
      ]
     },
     "execution_count": 42,
     "metadata": {
      "tags": []
     },
     "output_type": "execute_result"
    }
   ],
   "source": [
    "# test data 오타 수정 (빅콘테스트 홈페이지 Q&A 참고)\n",
    "TEST['ARP'][2] = 'ARP1'\n",
    "TEST.head(3)"
   ]
  },
  {
   "cell_type": "markdown",
   "metadata": {
    "colab_type": "text",
    "id": "vHdUeTzubmSJ"
   },
   "source": [
    "### 1-1. TEST 데이터에 부정기편 변수 추가하기"
   ]
  },
  {
   "cell_type": "code",
   "execution_count": 0,
   "metadata": {
    "colab": {
     "base_uri": "https://localhost:8080/",
     "height": 432
    },
    "colab_type": "code",
    "id": "cC-gDdI_berp",
    "outputId": "0ca6e445-3ee1-41ec-bc7c-1cb8d31bed38"
   },
   "outputs": [
    {
     "data": {
      "text/html": [
       "<div>\n",
       "<style scoped>\n",
       "    .dataframe tbody tr th:only-of-type {\n",
       "        vertical-align: middle;\n",
       "    }\n",
       "\n",
       "    .dataframe tbody tr th {\n",
       "        vertical-align: top;\n",
       "    }\n",
       "\n",
       "    .dataframe thead th {\n",
       "        text-align: right;\n",
       "    }\n",
       "</style>\n",
       "<table border=\"1\" class=\"dataframe\">\n",
       "  <thead>\n",
       "    <tr style=\"text-align: right;\">\n",
       "      <th></th>\n",
       "      <th>SSC</th>\n",
       "      <th>FLT</th>\n",
       "      <th>ORG</th>\n",
       "      <th>DES</th>\n",
       "      <th>STD</th>\n",
       "      <th>STA</th>\n",
       "      <th>FLO</th>\n",
       "      <th>MON</th>\n",
       "      <th>TUE</th>\n",
       "      <th>WED</th>\n",
       "      <th>THU</th>\n",
       "      <th>FRI</th>\n",
       "      <th>SAT</th>\n",
       "      <th>SUN</th>\n",
       "      <th>FSD</th>\n",
       "      <th>FED</th>\n",
       "      <th>IRR</th>\n",
       "    </tr>\n",
       "  </thead>\n",
       "  <tbody>\n",
       "    <tr>\n",
       "      <th>568</th>\n",
       "      <td>S19</td>\n",
       "      <td>H1876</td>\n",
       "      <td>ARP3</td>\n",
       "      <td>ARP6</td>\n",
       "      <td>17:15</td>\n",
       "      <td>18:25</td>\n",
       "      <td>H</td>\n",
       "      <td>Y</td>\n",
       "      <td>Y</td>\n",
       "      <td>Y</td>\n",
       "      <td>Y</td>\n",
       "      <td>Y</td>\n",
       "      <td>Y</td>\n",
       "      <td>Y</td>\n",
       "      <td>20190503</td>\n",
       "      <td>20191026</td>\n",
       "      <td>Y</td>\n",
       "    </tr>\n",
       "    <tr>\n",
       "      <th>569</th>\n",
       "      <td>S19</td>\n",
       "      <td>H1875</td>\n",
       "      <td>ARP6</td>\n",
       "      <td>ARP3</td>\n",
       "      <td>19:00</td>\n",
       "      <td>20:10</td>\n",
       "      <td>H</td>\n",
       "      <td>Y</td>\n",
       "      <td>Y</td>\n",
       "      <td>Y</td>\n",
       "      <td>Y</td>\n",
       "      <td>Y</td>\n",
       "      <td>Y</td>\n",
       "      <td>Y</td>\n",
       "      <td>20190503</td>\n",
       "      <td>20191026</td>\n",
       "      <td>Y</td>\n",
       "    </tr>\n",
       "    <tr>\n",
       "      <th>597</th>\n",
       "      <td>S19</td>\n",
       "      <td>L1813</td>\n",
       "      <td>ARP4</td>\n",
       "      <td>ARP3</td>\n",
       "      <td>15:30</td>\n",
       "      <td>16:30</td>\n",
       "      <td>L</td>\n",
       "      <td>NaN</td>\n",
       "      <td>NaN</td>\n",
       "      <td>NaN</td>\n",
       "      <td>NaN</td>\n",
       "      <td>Y</td>\n",
       "      <td>NaN</td>\n",
       "      <td>NaN</td>\n",
       "      <td>20190723</td>\n",
       "      <td>20190831</td>\n",
       "      <td>Y</td>\n",
       "    </tr>\n",
       "    <tr>\n",
       "      <th>762</th>\n",
       "      <td>S19</td>\n",
       "      <td>B1806F</td>\n",
       "      <td>ARP4</td>\n",
       "      <td>ARP1</td>\n",
       "      <td>21:15</td>\n",
       "      <td>22:15</td>\n",
       "      <td>B</td>\n",
       "      <td>NaN</td>\n",
       "      <td>Y</td>\n",
       "      <td>NaN</td>\n",
       "      <td>NaN</td>\n",
       "      <td>NaN</td>\n",
       "      <td>NaN</td>\n",
       "      <td>NaN</td>\n",
       "      <td>20190603</td>\n",
       "      <td>20191026</td>\n",
       "      <td>Y</td>\n",
       "    </tr>\n",
       "    <tr>\n",
       "      <th>835</th>\n",
       "      <td>S19</td>\n",
       "      <td>L1811</td>\n",
       "      <td>ARP4</td>\n",
       "      <td>ARP3</td>\n",
       "      <td>7:40</td>\n",
       "      <td>8:45</td>\n",
       "      <td>L</td>\n",
       "      <td>NaN</td>\n",
       "      <td>Y</td>\n",
       "      <td>NaN</td>\n",
       "      <td>Y</td>\n",
       "      <td>NaN</td>\n",
       "      <td>Y</td>\n",
       "      <td>NaN</td>\n",
       "      <td>20190723</td>\n",
       "      <td>20190831</td>\n",
       "      <td>Y</td>\n",
       "    </tr>\n",
       "    <tr>\n",
       "      <th>836</th>\n",
       "      <td>S19</td>\n",
       "      <td>H1913F</td>\n",
       "      <td>ARP4</td>\n",
       "      <td>ARP7</td>\n",
       "      <td>21:00</td>\n",
       "      <td>21:50</td>\n",
       "      <td>H</td>\n",
       "      <td>NaN</td>\n",
       "      <td>NaN</td>\n",
       "      <td>Y</td>\n",
       "      <td>NaN</td>\n",
       "      <td>NaN</td>\n",
       "      <td>NaN</td>\n",
       "      <td>NaN</td>\n",
       "      <td>20190724</td>\n",
       "      <td>20190807</td>\n",
       "      <td>Y</td>\n",
       "    </tr>\n",
       "    <tr>\n",
       "      <th>837</th>\n",
       "      <td>S19</td>\n",
       "      <td>H1913F</td>\n",
       "      <td>ARP4</td>\n",
       "      <td>ARP7</td>\n",
       "      <td>5:35</td>\n",
       "      <td>6:25</td>\n",
       "      <td>H</td>\n",
       "      <td>NaN</td>\n",
       "      <td>NaN</td>\n",
       "      <td>NaN</td>\n",
       "      <td>NaN</td>\n",
       "      <td>NaN</td>\n",
       "      <td>NaN</td>\n",
       "      <td>Y</td>\n",
       "      <td>20190724</td>\n",
       "      <td>20190807</td>\n",
       "      <td>Y</td>\n",
       "    </tr>\n",
       "    <tr>\n",
       "      <th>838</th>\n",
       "      <td>S19</td>\n",
       "      <td>H1913F</td>\n",
       "      <td>ARP7</td>\n",
       "      <td>ARP4</td>\n",
       "      <td>9:25</td>\n",
       "      <td>10:15</td>\n",
       "      <td>H</td>\n",
       "      <td>NaN</td>\n",
       "      <td>NaN</td>\n",
       "      <td>Y</td>\n",
       "      <td>NaN</td>\n",
       "      <td>NaN</td>\n",
       "      <td>NaN</td>\n",
       "      <td>NaN</td>\n",
       "      <td>20190724</td>\n",
       "      <td>20190807</td>\n",
       "      <td>Y</td>\n",
       "    </tr>\n",
       "    <tr>\n",
       "      <th>900</th>\n",
       "      <td>S19</td>\n",
       "      <td>H1913F</td>\n",
       "      <td>ARP7</td>\n",
       "      <td>ARP4</td>\n",
       "      <td>9:05</td>\n",
       "      <td>9:55</td>\n",
       "      <td>H</td>\n",
       "      <td>NaN</td>\n",
       "      <td>NaN</td>\n",
       "      <td>NaN</td>\n",
       "      <td>NaN</td>\n",
       "      <td>NaN</td>\n",
       "      <td>Y</td>\n",
       "      <td>NaN</td>\n",
       "      <td>20190724</td>\n",
       "      <td>20190807</td>\n",
       "      <td>Y</td>\n",
       "    </tr>\n",
       "    <tr>\n",
       "      <th>982</th>\n",
       "      <td>S19</td>\n",
       "      <td>L1812</td>\n",
       "      <td>ARP3</td>\n",
       "      <td>ARP4</td>\n",
       "      <td>11:00</td>\n",
       "      <td>12:00</td>\n",
       "      <td>L</td>\n",
       "      <td>NaN</td>\n",
       "      <td>Y</td>\n",
       "      <td>NaN</td>\n",
       "      <td>Y</td>\n",
       "      <td>NaN</td>\n",
       "      <td>Y</td>\n",
       "      <td>NaN</td>\n",
       "      <td>20190723</td>\n",
       "      <td>20190831</td>\n",
       "      <td>Y</td>\n",
       "    </tr>\n",
       "    <tr>\n",
       "      <th>983</th>\n",
       "      <td>S19</td>\n",
       "      <td>L1814</td>\n",
       "      <td>ARP3</td>\n",
       "      <td>ARP4</td>\n",
       "      <td>17:55</td>\n",
       "      <td>18:55</td>\n",
       "      <td>L</td>\n",
       "      <td>NaN</td>\n",
       "      <td>NaN</td>\n",
       "      <td>NaN</td>\n",
       "      <td>NaN</td>\n",
       "      <td>Y</td>\n",
       "      <td>NaN</td>\n",
       "      <td>NaN</td>\n",
       "      <td>20190723</td>\n",
       "      <td>20190831</td>\n",
       "      <td>Y</td>\n",
       "    </tr>\n",
       "    <tr>\n",
       "      <th>1078</th>\n",
       "      <td>S19</td>\n",
       "      <td>B1853</td>\n",
       "      <td>ARP1</td>\n",
       "      <td>ARP4</td>\n",
       "      <td>7:30</td>\n",
       "      <td>8:25</td>\n",
       "      <td>B</td>\n",
       "      <td>NaN</td>\n",
       "      <td>NaN</td>\n",
       "      <td>Y</td>\n",
       "      <td>NaN</td>\n",
       "      <td>NaN</td>\n",
       "      <td>NaN</td>\n",
       "      <td>NaN</td>\n",
       "      <td>20190603</td>\n",
       "      <td>20191026</td>\n",
       "      <td>Y</td>\n",
       "    </tr>\n",
       "    <tr>\n",
       "      <th>1081</th>\n",
       "      <td>S19</td>\n",
       "      <td>L1811</td>\n",
       "      <td>ARP4</td>\n",
       "      <td>ARP3</td>\n",
       "      <td>7:40</td>\n",
       "      <td>8:45</td>\n",
       "      <td>L</td>\n",
       "      <td>NaN</td>\n",
       "      <td>Y</td>\n",
       "      <td>NaN</td>\n",
       "      <td>Y</td>\n",
       "      <td>NaN</td>\n",
       "      <td>Y</td>\n",
       "      <td>NaN</td>\n",
       "      <td>20190723</td>\n",
       "      <td>20190831</td>\n",
       "      <td>Y</td>\n",
       "    </tr>\n",
       "  </tbody>\n",
       "</table>\n",
       "</div>"
      ],
      "text/plain": [
       "      SSC     FLT   ORG   DES    STD  ...  SAT  SUN       FSD       FED IRR\n",
       "568   S19   H1876  ARP3  ARP6  17:15  ...    Y    Y  20190503  20191026   Y\n",
       "569   S19   H1875  ARP6  ARP3  19:00  ...    Y    Y  20190503  20191026   Y\n",
       "597   S19   L1813  ARP4  ARP3  15:30  ...  NaN  NaN  20190723  20190831   Y\n",
       "762   S19  B1806F  ARP4  ARP1  21:15  ...  NaN  NaN  20190603  20191026   Y\n",
       "835   S19   L1811  ARP4  ARP3   7:40  ...    Y  NaN  20190723  20190831   Y\n",
       "836   S19  H1913F  ARP4  ARP7  21:00  ...  NaN  NaN  20190724  20190807   Y\n",
       "837   S19  H1913F  ARP4  ARP7   5:35  ...  NaN    Y  20190724  20190807   Y\n",
       "838   S19  H1913F  ARP7  ARP4   9:25  ...  NaN  NaN  20190724  20190807   Y\n",
       "900   S19  H1913F  ARP7  ARP4   9:05  ...    Y  NaN  20190724  20190807   Y\n",
       "982   S19   L1812  ARP3  ARP4  11:00  ...    Y  NaN  20190723  20190831   Y\n",
       "983   S19   L1814  ARP3  ARP4  17:55  ...  NaN  NaN  20190723  20190831   Y\n",
       "1078  S19   B1853  ARP1  ARP4   7:30  ...  NaN  NaN  20190603  20191026   Y\n",
       "1081  S19   L1811  ARP4  ARP3   7:40  ...    Y  NaN  20190723  20190831   Y\n",
       "\n",
       "[13 rows x 17 columns]"
      ]
     },
     "execution_count": 43,
     "metadata": {
      "tags": []
     },
     "output_type": "execute_result"
    }
   ],
   "source": [
    "# SCEHDULE(SFSNT.csv)를 통한 부정기편 확인\n",
    "SCHEDULE[SCHEDULE['IRR'] == 'Y']"
   ]
  },
  {
   "cell_type": "code",
   "execution_count": null,
   "metadata": {},
   "outputs": [],
   "source": [
    "# SCHEDULE에서 부정기편인 몇개 있는지 확인 --> 부정기편 데이터 없음\n",
    "SCHEDULE_FLT = list(set(SCHEDULE[SCHEDULE['IRR']=='Y']['FLT']))\n",
    "TEST_FLT = list(set(TEST['FLT']))\n",
    "cnt = 0\n",
    "for i in range(len(SCHEDULE_FLT)):\n",
    "    for j in range(len(TEST_FLT)):\n",
    "        if SCHEDULE_FLT[i] == TEST_FLT[j]:\n",
    "            cnt += 1\n",
    "print('부정기편의 개수:', cnt)"
   ]
  },
  {
   "cell_type": "code",
   "execution_count": 0,
   "metadata": {
    "colab": {},
    "colab_type": "code",
    "id": "x-pqCJmUbrBd"
   },
   "outputs": [],
   "source": [
    "# TEST 데이터의 IRR 변수에 모두 'N' 넣기\n",
    "TEST_IRR = TEST\n",
    "TEST_IRR['IRR'] = 'N'"
   ]
  },
  {
   "cell_type": "markdown",
   "metadata": {
    "colab_type": "text",
    "id": "vasmPyQ9MDf7"
   },
   "source": [
    "### 1-2. AOD를 출발(D) 기준으로 공항(ARP) 및 상대공항(ODP) 정리"
   ]
  },
  {
   "cell_type": "code",
   "execution_count": 0,
   "metadata": {
    "colab": {},
    "colab_type": "code",
    "id": "fNYYUnAQVsAt"
   },
   "outputs": [],
   "source": [
    "# 필요한 변수만 뽑기\n",
    "TRAIN_ = TRAIN[['SDT_YY', 'SDT_MM', 'SDT_DD', 'SDT_DY', 'ARP', 'ODP', 'FLO', 'FLT', 'AOD', 'STT', 'IRR', 'DLY']]\n",
    "TEST_ = TEST_IRR[['SDT_YY', 'SDT_MM', 'SDT_DD', 'SDT_DY', 'ARP', 'ODP', 'FLO', 'FLT', 'AOD', 'STT', 'IRR', 'DLY']]"
   ]
  },
  {
   "cell_type": "code",
   "execution_count": 0,
   "metadata": {
    "colab": {},
    "colab_type": "code",
    "id": "g1jJNOMvau9t"
   },
   "outputs": [],
   "source": [
    "# 메모리 용량 확보를 위한 불필요한 데이터 삭제\n",
    "del TRAIN\n",
    "del TEST\n",
    "del TEST_IRR"
   ]
  },
  {
   "cell_type": "code",
   "execution_count": 0,
   "metadata": {
    "colab": {},
    "colab_type": "code",
    "id": "_mQGNhP-BUZ1"
   },
   "outputs": [],
   "source": [
    "# train + test 합치기\n",
    "DATA = pd.concat([TRAIN_, TEST_], axis=0, ignore_index = True)"
   ]
  },
  {
   "cell_type": "code",
   "execution_count": 0,
   "metadata": {
    "colab": {},
    "colab_type": "code",
    "id": "c-vaPL3Buwr9"
   },
   "outputs": [],
   "source": [
    "# 모두 출발 기준으로 공항 ARP, 상대공항 ODP 변경\n",
    "arp_li = []; odp_li = []\n",
    "for i in range(len(DATA)):\n",
    "    if DATA['AOD'][i] == 'A':\n",
    "        arp_li.append(DATA['ODP'][i])\n",
    "        odp_li.append(DATA['ARP'][i])\n",
    "    else:\n",
    "        arp_li.append(DATA['ARP'][i])\n",
    "        odp_li.append(DATA['ODP'][i])\n",
    "DATA['ARP'] = arp_li\n",
    "DATA['ODP'] = odp_li\n",
    "del DATA['AOD']"
   ]
  },
  {
   "cell_type": "markdown",
   "metadata": {},
   "source": [
    "### 1-3. 계획시간대 변수 생성\n",
    "- 추후 Feature Engineering에서 사용하기 위함"
   ]
  },
  {
   "cell_type": "code",
   "execution_count": 0,
   "metadata": {
    "colab": {},
    "colab_type": "code",
    "id": "z94kCAQxxizl"
   },
   "outputs": [],
   "source": [
    "# STT 시간 변수 생성\n",
    "stt_li = []\n",
    "for i in range(len(DATA)):\n",
    "    stt_li.append(DATA.STT[i][:-3])\n",
    "DATA['STT_H'] = stt_li"
   ]
  },
  {
   "cell_type": "markdown",
   "metadata": {},
   "source": [
    "## 2. Data Preprocessing\n",
    "### 2-1. one-hot encoding 변수 생성"
   ]
  },
  {
   "cell_type": "code",
   "execution_count": 0,
   "metadata": {
    "colab": {},
    "colab_type": "code",
    "id": "0vY7Yu-ZtT2R"
   },
   "outputs": [],
   "source": [
    "# pandas의 get_dummies를 이용한 범주형 변수의 one-hot encoding화\n",
    "SDT_YY = pd.get_dummies(DATA['SDT_YY'], prefix='Y')\n",
    "SDT_MM = pd.get_dummies(DATA['SDT_MM'], prefix='M')\n",
    "SDT_DY = pd.get_dummies(DATA['SDT_DY'], prefix='D')\n",
    "ARP = pd.get_dummies(DATA['ARP'], prefix='ARP')\n",
    "ODP = pd.get_dummies(DATA['ODP'], prefix='ODP')\n",
    "FLO = pd.get_dummies(DATA['FLO'], prefix='FLO')\n",
    "STT_H = pd.get_dummies(DATA['STT_H'], prefix='H')\n",
    "IRR = pd.get_dummies(DATA['IRR'], prefix='IRR')"
   ]
  },
  {
   "cell_type": "code",
   "execution_count": 0,
   "metadata": {
    "colab": {
     "base_uri": "https://localhost:8080/",
     "height": 136
    },
    "colab_type": "code",
    "id": "tBJcjIGL-tiF",
    "outputId": "6d1dafac-6d32-4119-9278-0dea04f7d5f4"
   },
   "outputs": [
    {
     "data": {
      "text/html": [
       "<div>\n",
       "<style scoped>\n",
       "    .dataframe tbody tr th:only-of-type {\n",
       "        vertical-align: middle;\n",
       "    }\n",
       "\n",
       "    .dataframe tbody tr th {\n",
       "        vertical-align: top;\n",
       "    }\n",
       "\n",
       "    .dataframe thead th {\n",
       "        text-align: right;\n",
       "    }\n",
       "</style>\n",
       "<table border=\"1\" class=\"dataframe\">\n",
       "  <thead>\n",
       "    <tr style=\"text-align: right;\">\n",
       "      <th></th>\n",
       "      <th>ARP_ARP1</th>\n",
       "      <th>ARP_ARP10</th>\n",
       "      <th>ARP_ARP11</th>\n",
       "      <th>ARP_ARP12</th>\n",
       "      <th>ARP_ARP13</th>\n",
       "      <th>ARP_ARP14</th>\n",
       "      <th>ARP_ARP15</th>\n",
       "      <th>ARP_ARP2</th>\n",
       "      <th>ARP_ARP3</th>\n",
       "      <th>ARP_ARP4</th>\n",
       "      <th>ARP_ARP5</th>\n",
       "      <th>ARP_ARP6</th>\n",
       "      <th>ARP_ARP7</th>\n",
       "      <th>ARP_ARP8</th>\n",
       "      <th>ARP_ARP9</th>\n",
       "    </tr>\n",
       "  </thead>\n",
       "  <tbody>\n",
       "    <tr>\n",
       "      <th>0</th>\n",
       "      <td>0</td>\n",
       "      <td>0</td>\n",
       "      <td>0</td>\n",
       "      <td>0</td>\n",
       "      <td>0</td>\n",
       "      <td>0</td>\n",
       "      <td>0</td>\n",
       "      <td>0</td>\n",
       "      <td>1</td>\n",
       "      <td>0</td>\n",
       "      <td>0</td>\n",
       "      <td>0</td>\n",
       "      <td>0</td>\n",
       "      <td>0</td>\n",
       "      <td>0</td>\n",
       "    </tr>\n",
       "    <tr>\n",
       "      <th>1</th>\n",
       "      <td>0</td>\n",
       "      <td>0</td>\n",
       "      <td>0</td>\n",
       "      <td>0</td>\n",
       "      <td>0</td>\n",
       "      <td>0</td>\n",
       "      <td>0</td>\n",
       "      <td>0</td>\n",
       "      <td>0</td>\n",
       "      <td>0</td>\n",
       "      <td>0</td>\n",
       "      <td>1</td>\n",
       "      <td>0</td>\n",
       "      <td>0</td>\n",
       "      <td>0</td>\n",
       "    </tr>\n",
       "    <tr>\n",
       "      <th>2</th>\n",
       "      <td>0</td>\n",
       "      <td>0</td>\n",
       "      <td>0</td>\n",
       "      <td>0</td>\n",
       "      <td>0</td>\n",
       "      <td>0</td>\n",
       "      <td>0</td>\n",
       "      <td>0</td>\n",
       "      <td>0</td>\n",
       "      <td>0</td>\n",
       "      <td>0</td>\n",
       "      <td>1</td>\n",
       "      <td>0</td>\n",
       "      <td>0</td>\n",
       "      <td>0</td>\n",
       "    </tr>\n",
       "  </tbody>\n",
       "</table>\n",
       "</div>"
      ],
      "text/plain": [
       "   ARP_ARP1  ARP_ARP10  ARP_ARP11  ...  ARP_ARP7  ARP_ARP8  ARP_ARP9\n",
       "0         0          0          0  ...         0         0         0\n",
       "1         0          0          0  ...         0         0         0\n",
       "2         0          0          0  ...         0         0         0\n",
       "\n",
       "[3 rows x 15 columns]"
      ]
     },
     "execution_count": 34,
     "metadata": {
      "tags": []
     },
     "output_type": "execute_result"
    }
   ],
   "source": [
    "# 예시 결과 (ARP)\n",
    "ARP.head(3)"
   ]
  },
  {
   "cell_type": "code",
   "execution_count": 0,
   "metadata": {
    "colab": {},
    "colab_type": "code",
    "id": "s-ANIztk4oNt"
   },
   "outputs": [],
   "source": [
    "# 모든 onehot 변수 합치기\n",
    "onehot = pd.concat([SDT_YY, SDT_MM, ARP, ODP, FLO, STT_H, IRR], axis=1)"
   ]
  },
  {
   "cell_type": "code",
   "execution_count": 0,
   "metadata": {
    "colab": {
     "base_uri": "https://localhost:8080/",
     "height": 185
    },
    "colab_type": "code",
    "id": "Ia2HXnN2s4Bu",
    "outputId": "7005a656-3024-4be5-cb35-5e721fe4728b"
   },
   "outputs": [
    {
     "data": {
      "text/html": [
       "<div>\n",
       "<style scoped>\n",
       "    .dataframe tbody tr th:only-of-type {\n",
       "        vertical-align: middle;\n",
       "    }\n",
       "\n",
       "    .dataframe tbody tr th {\n",
       "        vertical-align: top;\n",
       "    }\n",
       "\n",
       "    .dataframe thead th {\n",
       "        text-align: right;\n",
       "    }\n",
       "</style>\n",
       "<table border=\"1\" class=\"dataframe\">\n",
       "  <thead>\n",
       "    <tr style=\"text-align: right;\">\n",
       "      <th></th>\n",
       "      <th>Y_2017</th>\n",
       "      <th>Y_2018</th>\n",
       "      <th>Y_2019</th>\n",
       "      <th>M_1</th>\n",
       "      <th>M_2</th>\n",
       "      <th>M_3</th>\n",
       "      <th>M_4</th>\n",
       "      <th>M_5</th>\n",
       "      <th>M_6</th>\n",
       "      <th>M_7</th>\n",
       "      <th>M_8</th>\n",
       "      <th>M_9</th>\n",
       "      <th>M_10</th>\n",
       "      <th>M_11</th>\n",
       "      <th>M_12</th>\n",
       "      <th>ARP_ARP1</th>\n",
       "      <th>ARP_ARP10</th>\n",
       "      <th>ARP_ARP11</th>\n",
       "      <th>ARP_ARP12</th>\n",
       "      <th>ARP_ARP13</th>\n",
       "      <th>ARP_ARP14</th>\n",
       "      <th>ARP_ARP15</th>\n",
       "      <th>ARP_ARP2</th>\n",
       "      <th>ARP_ARP3</th>\n",
       "      <th>ARP_ARP4</th>\n",
       "      <th>ARP_ARP5</th>\n",
       "      <th>ARP_ARP6</th>\n",
       "      <th>ARP_ARP7</th>\n",
       "      <th>ARP_ARP8</th>\n",
       "      <th>ARP_ARP9</th>\n",
       "      <th>ODP_ARP1</th>\n",
       "      <th>ODP_ARP10</th>\n",
       "      <th>ODP_ARP11</th>\n",
       "      <th>ODP_ARP12</th>\n",
       "      <th>ODP_ARP13</th>\n",
       "      <th>ODP_ARP14</th>\n",
       "      <th>ODP_ARP15</th>\n",
       "      <th>ODP_ARP2</th>\n",
       "      <th>ODP_ARP3</th>\n",
       "      <th>ODP_ARP4</th>\n",
       "      <th>...</th>\n",
       "      <th>ODP_ARP7</th>\n",
       "      <th>ODP_ARP8</th>\n",
       "      <th>ODP_ARP9</th>\n",
       "      <th>FLO_A</th>\n",
       "      <th>FLO_B</th>\n",
       "      <th>FLO_C</th>\n",
       "      <th>FLO_D</th>\n",
       "      <th>FLO_E</th>\n",
       "      <th>FLO_F</th>\n",
       "      <th>FLO_G</th>\n",
       "      <th>FLO_H</th>\n",
       "      <th>FLO_I</th>\n",
       "      <th>FLO_J</th>\n",
       "      <th>FLO_K</th>\n",
       "      <th>FLO_L</th>\n",
       "      <th>FLO_M</th>\n",
       "      <th>H_0</th>\n",
       "      <th>H_1</th>\n",
       "      <th>H_10</th>\n",
       "      <th>H_11</th>\n",
       "      <th>H_12</th>\n",
       "      <th>H_13</th>\n",
       "      <th>H_14</th>\n",
       "      <th>H_15</th>\n",
       "      <th>H_16</th>\n",
       "      <th>H_17</th>\n",
       "      <th>H_18</th>\n",
       "      <th>H_19</th>\n",
       "      <th>H_2</th>\n",
       "      <th>H_20</th>\n",
       "      <th>H_21</th>\n",
       "      <th>H_22</th>\n",
       "      <th>H_23</th>\n",
       "      <th>H_5</th>\n",
       "      <th>H_6</th>\n",
       "      <th>H_7</th>\n",
       "      <th>H_8</th>\n",
       "      <th>H_9</th>\n",
       "      <th>IRR_N</th>\n",
       "      <th>IRR_Y</th>\n",
       "    </tr>\n",
       "  </thead>\n",
       "  <tbody>\n",
       "    <tr>\n",
       "      <th>0</th>\n",
       "      <td>1</td>\n",
       "      <td>0</td>\n",
       "      <td>0</td>\n",
       "      <td>1</td>\n",
       "      <td>0</td>\n",
       "      <td>0</td>\n",
       "      <td>0</td>\n",
       "      <td>0</td>\n",
       "      <td>0</td>\n",
       "      <td>0</td>\n",
       "      <td>0</td>\n",
       "      <td>0</td>\n",
       "      <td>0</td>\n",
       "      <td>0</td>\n",
       "      <td>0</td>\n",
       "      <td>0</td>\n",
       "      <td>0</td>\n",
       "      <td>0</td>\n",
       "      <td>0</td>\n",
       "      <td>0</td>\n",
       "      <td>0</td>\n",
       "      <td>0</td>\n",
       "      <td>0</td>\n",
       "      <td>1</td>\n",
       "      <td>0</td>\n",
       "      <td>0</td>\n",
       "      <td>0</td>\n",
       "      <td>0</td>\n",
       "      <td>0</td>\n",
       "      <td>0</td>\n",
       "      <td>0</td>\n",
       "      <td>0</td>\n",
       "      <td>0</td>\n",
       "      <td>0</td>\n",
       "      <td>0</td>\n",
       "      <td>0</td>\n",
       "      <td>0</td>\n",
       "      <td>0</td>\n",
       "      <td>0</td>\n",
       "      <td>0</td>\n",
       "      <td>...</td>\n",
       "      <td>0</td>\n",
       "      <td>0</td>\n",
       "      <td>0</td>\n",
       "      <td>0</td>\n",
       "      <td>0</td>\n",
       "      <td>0</td>\n",
       "      <td>0</td>\n",
       "      <td>0</td>\n",
       "      <td>0</td>\n",
       "      <td>0</td>\n",
       "      <td>0</td>\n",
       "      <td>0</td>\n",
       "      <td>1</td>\n",
       "      <td>0</td>\n",
       "      <td>0</td>\n",
       "      <td>0</td>\n",
       "      <td>0</td>\n",
       "      <td>0</td>\n",
       "      <td>1</td>\n",
       "      <td>0</td>\n",
       "      <td>0</td>\n",
       "      <td>0</td>\n",
       "      <td>0</td>\n",
       "      <td>0</td>\n",
       "      <td>0</td>\n",
       "      <td>0</td>\n",
       "      <td>0</td>\n",
       "      <td>0</td>\n",
       "      <td>0</td>\n",
       "      <td>0</td>\n",
       "      <td>0</td>\n",
       "      <td>0</td>\n",
       "      <td>0</td>\n",
       "      <td>0</td>\n",
       "      <td>0</td>\n",
       "      <td>0</td>\n",
       "      <td>0</td>\n",
       "      <td>0</td>\n",
       "      <td>1</td>\n",
       "      <td>0</td>\n",
       "    </tr>\n",
       "    <tr>\n",
       "      <th>1</th>\n",
       "      <td>1</td>\n",
       "      <td>0</td>\n",
       "      <td>0</td>\n",
       "      <td>1</td>\n",
       "      <td>0</td>\n",
       "      <td>0</td>\n",
       "      <td>0</td>\n",
       "      <td>0</td>\n",
       "      <td>0</td>\n",
       "      <td>0</td>\n",
       "      <td>0</td>\n",
       "      <td>0</td>\n",
       "      <td>0</td>\n",
       "      <td>0</td>\n",
       "      <td>0</td>\n",
       "      <td>0</td>\n",
       "      <td>0</td>\n",
       "      <td>0</td>\n",
       "      <td>0</td>\n",
       "      <td>0</td>\n",
       "      <td>0</td>\n",
       "      <td>0</td>\n",
       "      <td>0</td>\n",
       "      <td>0</td>\n",
       "      <td>0</td>\n",
       "      <td>0</td>\n",
       "      <td>1</td>\n",
       "      <td>0</td>\n",
       "      <td>0</td>\n",
       "      <td>0</td>\n",
       "      <td>0</td>\n",
       "      <td>0</td>\n",
       "      <td>0</td>\n",
       "      <td>0</td>\n",
       "      <td>0</td>\n",
       "      <td>0</td>\n",
       "      <td>0</td>\n",
       "      <td>0</td>\n",
       "      <td>1</td>\n",
       "      <td>0</td>\n",
       "      <td>...</td>\n",
       "      <td>0</td>\n",
       "      <td>0</td>\n",
       "      <td>0</td>\n",
       "      <td>0</td>\n",
       "      <td>0</td>\n",
       "      <td>0</td>\n",
       "      <td>0</td>\n",
       "      <td>0</td>\n",
       "      <td>0</td>\n",
       "      <td>0</td>\n",
       "      <td>0</td>\n",
       "      <td>0</td>\n",
       "      <td>1</td>\n",
       "      <td>0</td>\n",
       "      <td>0</td>\n",
       "      <td>0</td>\n",
       "      <td>0</td>\n",
       "      <td>0</td>\n",
       "      <td>0</td>\n",
       "      <td>0</td>\n",
       "      <td>0</td>\n",
       "      <td>0</td>\n",
       "      <td>0</td>\n",
       "      <td>0</td>\n",
       "      <td>0</td>\n",
       "      <td>0</td>\n",
       "      <td>0</td>\n",
       "      <td>0</td>\n",
       "      <td>0</td>\n",
       "      <td>0</td>\n",
       "      <td>0</td>\n",
       "      <td>0</td>\n",
       "      <td>0</td>\n",
       "      <td>0</td>\n",
       "      <td>0</td>\n",
       "      <td>0</td>\n",
       "      <td>0</td>\n",
       "      <td>1</td>\n",
       "      <td>1</td>\n",
       "      <td>0</td>\n",
       "    </tr>\n",
       "    <tr>\n",
       "      <th>2</th>\n",
       "      <td>1</td>\n",
       "      <td>0</td>\n",
       "      <td>0</td>\n",
       "      <td>1</td>\n",
       "      <td>0</td>\n",
       "      <td>0</td>\n",
       "      <td>0</td>\n",
       "      <td>0</td>\n",
       "      <td>0</td>\n",
       "      <td>0</td>\n",
       "      <td>0</td>\n",
       "      <td>0</td>\n",
       "      <td>0</td>\n",
       "      <td>0</td>\n",
       "      <td>0</td>\n",
       "      <td>0</td>\n",
       "      <td>0</td>\n",
       "      <td>0</td>\n",
       "      <td>0</td>\n",
       "      <td>0</td>\n",
       "      <td>0</td>\n",
       "      <td>0</td>\n",
       "      <td>0</td>\n",
       "      <td>0</td>\n",
       "      <td>0</td>\n",
       "      <td>0</td>\n",
       "      <td>1</td>\n",
       "      <td>0</td>\n",
       "      <td>0</td>\n",
       "      <td>0</td>\n",
       "      <td>0</td>\n",
       "      <td>0</td>\n",
       "      <td>0</td>\n",
       "      <td>0</td>\n",
       "      <td>0</td>\n",
       "      <td>0</td>\n",
       "      <td>0</td>\n",
       "      <td>0</td>\n",
       "      <td>1</td>\n",
       "      <td>0</td>\n",
       "      <td>...</td>\n",
       "      <td>0</td>\n",
       "      <td>0</td>\n",
       "      <td>0</td>\n",
       "      <td>0</td>\n",
       "      <td>0</td>\n",
       "      <td>0</td>\n",
       "      <td>0</td>\n",
       "      <td>0</td>\n",
       "      <td>0</td>\n",
       "      <td>0</td>\n",
       "      <td>0</td>\n",
       "      <td>0</td>\n",
       "      <td>1</td>\n",
       "      <td>0</td>\n",
       "      <td>0</td>\n",
       "      <td>0</td>\n",
       "      <td>0</td>\n",
       "      <td>0</td>\n",
       "      <td>0</td>\n",
       "      <td>0</td>\n",
       "      <td>1</td>\n",
       "      <td>0</td>\n",
       "      <td>0</td>\n",
       "      <td>0</td>\n",
       "      <td>0</td>\n",
       "      <td>0</td>\n",
       "      <td>0</td>\n",
       "      <td>0</td>\n",
       "      <td>0</td>\n",
       "      <td>0</td>\n",
       "      <td>0</td>\n",
       "      <td>0</td>\n",
       "      <td>0</td>\n",
       "      <td>0</td>\n",
       "      <td>0</td>\n",
       "      <td>0</td>\n",
       "      <td>0</td>\n",
       "      <td>0</td>\n",
       "      <td>1</td>\n",
       "      <td>0</td>\n",
       "    </tr>\n",
       "  </tbody>\n",
       "</table>\n",
       "<p>3 rows × 82 columns</p>\n",
       "</div>"
      ],
      "text/plain": [
       "   Y_2017  Y_2018  Y_2019  M_1  M_2  M_3  ...  H_6  H_7  H_8  H_9  IRR_N  IRR_Y\n",
       "0       1       0       0    1    0    0  ...    0    0    0    0      1      0\n",
       "1       1       0       0    1    0    0  ...    0    0    0    1      1      0\n",
       "2       1       0       0    1    0    0  ...    0    0    0    0      1      0\n",
       "\n",
       "[3 rows x 82 columns]"
      ]
     },
     "execution_count": 43,
     "metadata": {
      "tags": []
     },
     "output_type": "execute_result"
    }
   ],
   "source": [
    "# 합친 결과\n",
    "onehot.head(3)"
   ]
  },
  {
   "cell_type": "markdown",
   "metadata": {
    "colab_type": "text",
    "id": "juYjB6RbKrRC"
   },
   "source": [
    "### 2-2. 항공사별 지연 비율 변수 생성"
   ]
  },
  {
   "cell_type": "code",
   "execution_count": 0,
   "metadata": {
    "colab": {},
    "colab_type": "code",
    "id": "OG9P5IwB3jHb"
   },
   "outputs": [],
   "source": [
    "# 항공사별 지연 비율 계산\n",
    "flo_rate = TRAIN_[TRAIN_['DLY']=='Y'].groupby('FLO').count()['FLT'] / TRAIN_.groupby('FLO').count()['FLT']\n",
    "flo_rate = flo_rate.fillna(0)"
   ]
  },
  {
   "cell_type": "code",
   "execution_count": 0,
   "metadata": {
    "colab": {},
    "colab_type": "code",
    "id": "Z5o147bZYrRD"
   },
   "outputs": [],
   "source": [
    "# 해당 행의 항공사에 대응하는 지연비율 대입\n",
    "flo_li = []\n",
    "for i in range(len(DATA)):\n",
    "    cnt = 0\n",
    "    for j in range(len(flo_rate)):\n",
    "        if DATA['FLO'].iloc[i] == flo_rate.index[j]:\n",
    "            cnt += 1\n",
    "            flo_li.append(flo_rate.iloc[j])\n",
    "    # train data에 해당 항공사가 없는 경우 0 추가\n",
    "    if cnt == 0:\n",
    "        flo_li.append(0)"
   ]
  },
  {
   "cell_type": "code",
   "execution_count": 0,
   "metadata": {
    "colab": {},
    "colab_type": "code",
    "id": "SvieMG22YrOJ"
   },
   "outputs": [],
   "source": [
    "# 변수 생성\n",
    "onehot['FLO_RATE'] = flo_li"
   ]
  },
  {
   "cell_type": "markdown",
   "metadata": {
    "colab_type": "text",
    "id": "YJp_d7CxMxR5"
   },
   "source": [
    "### 2-3. 공항 ARP / ODP별 지연 비율 변수 생성"
   ]
  },
  {
   "cell_type": "code",
   "execution_count": 0,
   "metadata": {
    "colab": {},
    "colab_type": "code",
    "id": "g7X4FzUtMxB6"
   },
   "outputs": [],
   "source": [
    "# 공항별 지연 비율 계산\n",
    "arp_rate = TRAIN_[TRAIN_['DLY']=='Y'].groupby('ARP').count()['FLT'] / TRAIN_.groupby('ARP').count()['FLT']\n",
    "arp_rate = arp_rate.fillna(0)"
   ]
  },
  {
   "cell_type": "code",
   "execution_count": 0,
   "metadata": {
    "colab": {},
    "colab_type": "code",
    "id": "2enp3aDCMxAm"
   },
   "outputs": [],
   "source": [
    "# 상대공항별 지연 비율 계산\n",
    "odp_rate = TRAIN_[TRAIN_['DLY']=='Y'].groupby('ODP').count()['FLT'] / TRAIN_.groupby('ODP').count()['FLT']\n",
    "odp_rate = odp_rate.fillna(0)"
   ]
  },
  {
   "cell_type": "code",
   "execution_count": 0,
   "metadata": {
    "colab": {},
    "colab_type": "code",
    "id": "pVI4rg60gR2V"
   },
   "outputs": [],
   "source": [
    "# 해당 행의 공항에 대응하는 지연비율 대입\n",
    "arp_list = []; odp_list = []\n",
    "for i in range(len(DATA)):\n",
    "    for j in range(1, 16):\n",
    "        if DATA['ARP'][i] == 'ARP'+str(j):\n",
    "            arp_list.append(arp_rate['ARP'+str(j)])\n",
    "        if DATA['ODP'][i] == 'ARP'+str(j):\n",
    "            odp_list.append(odp_rate['ARP'+str(j)])"
   ]
  },
  {
   "cell_type": "code",
   "execution_count": 0,
   "metadata": {
    "colab": {},
    "colab_type": "code",
    "id": "WCp9y_gmgRq8"
   },
   "outputs": [],
   "source": [
    "# 변수 생성\n",
    "onehot['ARP_RATE'] = arp_list\n",
    "onehot['ODP_RATE'] = odp_list"
   ]
  },
  {
   "cell_type": "markdown",
   "metadata": {
    "colab_type": "text",
    "id": "qvyKCA-eln8P"
   },
   "source": [
    "### 2-4. 연도별 지연 비율 변수 생성"
   ]
  },
  {
   "cell_type": "code",
   "execution_count": 0,
   "metadata": {
    "colab": {},
    "colab_type": "code",
    "id": "VZOMDtnwlnhS"
   },
   "outputs": [],
   "source": [
    "# 연도별 지연 비율 계산\n",
    "year_rate = TRAIN_[TRAIN_['DLY']=='Y'].groupby('SDT_YY').count()['FLT'] / TRAIN_.groupby('SDT_YY').count()['FLT']\n",
    "year_rate = year_rate.fillna(0)"
   ]
  },
  {
   "cell_type": "code",
   "execution_count": 0,
   "metadata": {
    "colab": {},
    "colab_type": "code",
    "id": "9zvx7QiYlnLR"
   },
   "outputs": [],
   "source": [
    "# 해당 행의 연도에 대응하는 지연비율 대입\n",
    "year_li = []\n",
    "for i in range(len(DATA)):\n",
    "    cnt = 0\n",
    "    for j in range(len(year_rate)):\n",
    "        if DATA['SDT_YY'].iloc[i] == year_rate.index[j]:\n",
    "            cnt += 1\n",
    "            year_li.append(year_rate.iloc[j])\n",
    "    # train data에 해당 없는 경우 0 추가\n",
    "    if cnt == 0:\n",
    "        year_li.append(0)"
   ]
  },
  {
   "cell_type": "code",
   "execution_count": 0,
   "metadata": {
    "colab": {},
    "colab_type": "code",
    "id": "eSiRtARYlnBN"
   },
   "outputs": [],
   "source": [
    "# 변수 생성\n",
    "onehot['YEAR_RATE'] = year_li"
   ]
  },
  {
   "cell_type": "markdown",
   "metadata": {
    "colab_type": "text",
    "id": "vmnsTpEXNBii"
   },
   "source": [
    "### 2-5. 월별 지연 비율 변수 생성"
   ]
  },
  {
   "cell_type": "code",
   "execution_count": 0,
   "metadata": {
    "colab": {},
    "colab_type": "code",
    "id": "J4hGnZW0NBWY"
   },
   "outputs": [],
   "source": [
    "# 월별 지연 비율 계산\n",
    "month_rate = TRAIN_[TRAIN_['DLY']=='Y'].groupby('SDT_MM').count()['FLT'] / TRAIN_.groupby('SDT_MM').count()['FLT']\n",
    "month_rate = month_rate.fillna(0)"
   ]
  },
  {
   "cell_type": "code",
   "execution_count": 0,
   "metadata": {
    "colab": {},
    "colab_type": "code",
    "id": "Wxy4DRiMNBPU"
   },
   "outputs": [],
   "source": [
    "# 해당 행의 월에 대응하는 지연비율 대입\n",
    "month_li = []\n",
    "for i in range(len(DATA)):\n",
    "    cnt = 0\n",
    "    for j in range(len(month_rate)):\n",
    "        if DATA['SDT_MM'].iloc[i] == month_rate.index[j]:\n",
    "            cnt += 1\n",
    "            month_li.append(month_rate.iloc[j])\n",
    "    # train data에 해당 없는 경우 0 추가\n",
    "    if cnt == 0:\n",
    "        month_li.append(0)"
   ]
  },
  {
   "cell_type": "code",
   "execution_count": 0,
   "metadata": {
    "colab": {},
    "colab_type": "code",
    "id": "lndSo1jxNBLu"
   },
   "outputs": [],
   "source": [
    "# 변수 생성\n",
    "onehot['MONTH_RATE'] = month_li"
   ]
  },
  {
   "cell_type": "markdown",
   "metadata": {
    "colab_type": "text",
    "id": "H0Jy-dzhM8Tg"
   },
   "source": [
    "### 2-6. 요일별 지연 비율 변수 생성"
   ]
  },
  {
   "cell_type": "code",
   "execution_count": 0,
   "metadata": {
    "colab": {},
    "colab_type": "code",
    "id": "MuhXe-tFM9VO"
   },
   "outputs": [],
   "source": [
    "# 요일별 지연 비율 계산\n",
    "day_rate = TRAIN_[TRAIN_['DLY']=='Y'].groupby('SDT_DY').count()['FLT'] / TRAIN_.groupby('SDT_DY').count()['FLT']\n",
    "day_rate = day_rate.fillna(0)"
   ]
  },
  {
   "cell_type": "code",
   "execution_count": 0,
   "metadata": {
    "colab": {},
    "colab_type": "code",
    "id": "-l7fljO1M8yM"
   },
   "outputs": [],
   "source": [
    "# 해당 행의 요일에 대응하는 지연비율 대입\n",
    "day_li = []\n",
    "for i in range(len(DATA)):\n",
    "    cnt = 0\n",
    "    for j in range(len(day_rate)):\n",
    "        if DATA['SDT_DY'].iloc[i] == day_rate.index[j]:\n",
    "            cnt += 1\n",
    "            day_li.append(day_rate.iloc[j])\n",
    "    # train data에 해당 없는 경우 0 추가\n",
    "    if cnt == 0:\n",
    "        day_li.append(0)"
   ]
  },
  {
   "cell_type": "code",
   "execution_count": 0,
   "metadata": {
    "colab": {},
    "colab_type": "code",
    "id": "8rNspa2DM79x"
   },
   "outputs": [],
   "source": [
    "# 변수 생성\n",
    "onehot['DAY_RATE'] = day_li"
   ]
  },
  {
   "cell_type": "markdown",
   "metadata": {
    "colab_type": "text",
    "id": "xB1UcQevNEOi"
   },
   "source": [
    "### 2-7. 시간대별 지연 비율 변수 생성"
   ]
  },
  {
   "cell_type": "code",
   "execution_count": 0,
   "metadata": {
    "colab": {},
    "colab_type": "code",
    "id": "HUsK_B1pm2gi"
   },
   "outputs": [],
   "source": [
    "# TRAIN 데이터에 대한 STT 시간 변수 생성\n",
    "stt_li = []\n",
    "for i in range(len(TRAIN_)):\n",
    "     stt_li.append(TRAIN_.STT[i][:-3])\n",
    "TRAIN_['STT_H'] = stt_li"
   ]
  },
  {
   "cell_type": "code",
   "execution_count": 0,
   "metadata": {
    "colab": {},
    "colab_type": "code",
    "id": "u0ULGoTgNEA0"
   },
   "outputs": [],
   "source": [
    "# 시간대별 지연 비율 계산\n",
    "hour_rate = TRAIN_[TRAIN_['DLY']=='Y'].groupby('STT_H').count()['FLT'] / TRAIN_.groupby('STT_H').count()['FLT']\n",
    "hour_rate = hour_rate.fillna(0)"
   ]
  },
  {
   "cell_type": "code",
   "execution_count": 0,
   "metadata": {
    "colab": {},
    "colab_type": "code",
    "id": "YnPVBpJnNDqa"
   },
   "outputs": [],
   "source": [
    "# 해당 행의 시간대에 대응하는 지연비율 대입\n",
    "hour_li = []\n",
    "for i in range(len(DATA)):\n",
    "    cnt = 0\n",
    "    for j in range(len(hour_rate)):\n",
    "        if DATA['STT_H'].iloc[i] == hour_rate.index[j]:\n",
    "            cnt += 1\n",
    "            hour_li.append(hour_rate.iloc[j])\n",
    "    # train data에 해당 없는 경우 0 추가\n",
    "    if cnt == 0:\n",
    "        hour_li.append(0)"
   ]
  },
  {
   "cell_type": "code",
   "execution_count": 0,
   "metadata": {
    "colab": {},
    "colab_type": "code",
    "id": "Az29P_w6NDnC"
   },
   "outputs": [],
   "source": [
    "# 변수 생성\n",
    "onehot['HOUR_RATE'] = hour_li"
   ]
  },
  {
   "cell_type": "markdown",
   "metadata": {
    "colab_type": "text",
    "id": "Oz3zcxFRnmil"
   },
   "source": [
    "### 2-8. 정기/부정기편별 지연 비율"
   ]
  },
  {
   "cell_type": "code",
   "execution_count": 0,
   "metadata": {
    "colab": {},
    "colab_type": "code",
    "id": "6nvHmC9Gnl_V"
   },
   "outputs": [],
   "source": [
    "# 정기/부정기편별 지연 비율 계산\n",
    "irr_rate = TRAIN_[TRAIN_['DLY']=='Y'].groupby('IRR').count()['FLT'] / TRAIN_.groupby('IRR').count()['FLT']\n",
    "irr_rate = irr_rate.fillna(0)"
   ]
  },
  {
   "cell_type": "code",
   "execution_count": 0,
   "metadata": {
    "colab": {},
    "colab_type": "code",
    "id": "YGdaFn-ANA1R"
   },
   "outputs": [],
   "source": [
    "# 해당 행의 정기/부정기편에 대응하는 지연비율 대입\n",
    "irr_li = []\n",
    "for i in range(len(DATA)):\n",
    "    cnt = 0\n",
    "    for j in range(len(irr_rate)):\n",
    "        if DATA['IRR'].iloc[i] == irr_rate.index[j]:\n",
    "            cnt += 1\n",
    "            irr_li.append(irr_rate.iloc[j])\n",
    "    # train data에 해당 없는 경우 0 추가\n",
    "    if cnt == 0:\n",
    "        irr_li.append(0)"
   ]
  },
  {
   "cell_type": "code",
   "execution_count": 0,
   "metadata": {
    "colab": {},
    "colab_type": "code",
    "id": "niJPuXRZ3i-1"
   },
   "outputs": [],
   "source": [
    "# 변수 생성\n",
    "onehot['IRR_RATE'] = irr_li"
   ]
  },
  {
   "cell_type": "markdown",
   "metadata": {
    "colab_type": "text",
    "id": "MUQPqbXENeI6"
   },
   "source": [
    "### 2-9. 공휴일"
   ]
  },
  {
   "cell_type": "code",
   "execution_count": 0,
   "metadata": {
    "colab": {},
    "colab_type": "code",
    "id": "vBggCmiEkfRm"
   },
   "outputs": [],
   "source": [
    "# 공휴일 데이터 불러오기\n",
    "holiday = pd.read_csv('data/holiday.csv', encoding='CP949')\n",
    "holiday = holiday[['DATE','holi_day']]"
   ]
  },
  {
   "cell_type": "code",
   "execution_count": 0,
   "metadata": {
    "colab": {},
    "colab_type": "code",
    "id": "rFtcYvutkyAC"
   },
   "outputs": [],
   "source": [
    "# DATE 변수 datetime 형식으로 변환\n",
    "holi_li = []\n",
    "for i in range(len(holiday)):\n",
    "    holi_li.append(dt.datetime.strptime(holiday['DATE'][i], '%Y-%m-%d'))\n",
    "holiday['DATE'] = holi_li"
   ]
  },
  {
   "cell_type": "code",
   "execution_count": 0,
   "metadata": {
    "colab": {},
    "colab_type": "code",
    "id": "NAkEbCbAS4XU"
   },
   "outputs": [],
   "source": [
    "# 해당 행의 공휴일 여부(0, 1) 대입\n",
    "holi_onehot = []\n",
    "for i in range(len(DATA)):\n",
    "    data_ymd = dt.datetime(DATA['SDT_YY'][i],DATA['SDT_MM'][i],DATA['SDT_DD'][i])\n",
    "    holi_onehot.append(int(holiday[holiday['DATE']==data_ymd]['holi_day']))"
   ]
  },
  {
   "cell_type": "code",
   "execution_count": 0,
   "metadata": {
    "colab": {},
    "colab_type": "code",
    "id": "MfG6raglL_3Y"
   },
   "outputs": [],
   "source": [
    "# 변수 생성\n",
    "onehot['HOLIDAY'] = holi_onehot"
   ]
  },
  {
   "cell_type": "markdown",
   "metadata": {
    "colab_type": "text",
    "id": "H1edKKH8YtFZ"
   },
   "source": [
    "### 2-10. 공항 ARP과 상대공항 ODP 사이 거리"
   ]
  },
  {
   "cell_type": "code",
   "execution_count": 0,
   "metadata": {
    "colab": {
     "base_uri": "https://localhost:8080/",
     "height": 195
    },
    "colab_type": "code",
    "id": "UuX6yG7V3R_2",
    "outputId": "4cc7450f-b600-4f30-e4d7-a5a52426b95c"
   },
   "outputs": [
    {
     "data": {
      "text/html": [
       "<div>\n",
       "<style scoped>\n",
       "    .dataframe tbody tr th:only-of-type {\n",
       "        vertical-align: middle;\n",
       "    }\n",
       "\n",
       "    .dataframe tbody tr th {\n",
       "        vertical-align: top;\n",
       "    }\n",
       "\n",
       "    .dataframe thead th {\n",
       "        text-align: right;\n",
       "    }\n",
       "</style>\n",
       "<table border=\"1\" class=\"dataframe\">\n",
       "  <thead>\n",
       "    <tr style=\"text-align: right;\">\n",
       "      <th></th>\n",
       "      <th>Unnamed: 0</th>\n",
       "      <th>Unnamed: 1</th>\n",
       "      <th>인천</th>\n",
       "      <th>김포</th>\n",
       "      <th>김해</th>\n",
       "      <th>제주</th>\n",
       "      <th>무안</th>\n",
       "      <th>양양</th>\n",
       "      <th>청주</th>\n",
       "      <th>대구</th>\n",
       "      <th>원주</th>\n",
       "      <th>포항</th>\n",
       "      <th>울산</th>\n",
       "      <th>사천</th>\n",
       "      <th>군산</th>\n",
       "      <th>광주</th>\n",
       "      <th>여수</th>\n",
       "    </tr>\n",
       "  </thead>\n",
       "  <tbody>\n",
       "    <tr>\n",
       "      <th>0</th>\n",
       "      <td>인천</td>\n",
       "      <td>ICN</td>\n",
       "      <td>NaN</td>\n",
       "      <td>NaN</td>\n",
       "      <td>NaN</td>\n",
       "      <td>NaN</td>\n",
       "      <td>NaN</td>\n",
       "      <td>NaN</td>\n",
       "      <td>NaN</td>\n",
       "      <td>NaN</td>\n",
       "      <td>NaN</td>\n",
       "      <td>NaN</td>\n",
       "      <td>NaN</td>\n",
       "      <td>NaN</td>\n",
       "      <td>NaN</td>\n",
       "      <td>NaN</td>\n",
       "      <td>NaN</td>\n",
       "    </tr>\n",
       "    <tr>\n",
       "      <th>1</th>\n",
       "      <td>김포</td>\n",
       "      <td>GMP</td>\n",
       "      <td>20.0</td>\n",
       "      <td>NaN</td>\n",
       "      <td>NaN</td>\n",
       "      <td>NaN</td>\n",
       "      <td>NaN</td>\n",
       "      <td>NaN</td>\n",
       "      <td>NaN</td>\n",
       "      <td>NaN</td>\n",
       "      <td>NaN</td>\n",
       "      <td>NaN</td>\n",
       "      <td>NaN</td>\n",
       "      <td>NaN</td>\n",
       "      <td>NaN</td>\n",
       "      <td>NaN</td>\n",
       "      <td>NaN</td>\n",
       "    </tr>\n",
       "    <tr>\n",
       "      <th>2</th>\n",
       "      <td>김해</td>\n",
       "      <td>PUS</td>\n",
       "      <td>210.0</td>\n",
       "      <td>203.0</td>\n",
       "      <td>NaN</td>\n",
       "      <td>NaN</td>\n",
       "      <td>NaN</td>\n",
       "      <td>NaN</td>\n",
       "      <td>NaN</td>\n",
       "      <td>NaN</td>\n",
       "      <td>NaN</td>\n",
       "      <td>NaN</td>\n",
       "      <td>NaN</td>\n",
       "      <td>NaN</td>\n",
       "      <td>NaN</td>\n",
       "      <td>NaN</td>\n",
       "      <td>NaN</td>\n",
       "    </tr>\n",
       "    <tr>\n",
       "      <th>3</th>\n",
       "      <td>제주</td>\n",
       "      <td>CJU</td>\n",
       "      <td>273.0</td>\n",
       "      <td>280.0</td>\n",
       "      <td>181.0</td>\n",
       "      <td>NaN</td>\n",
       "      <td>NaN</td>\n",
       "      <td>NaN</td>\n",
       "      <td>NaN</td>\n",
       "      <td>NaN</td>\n",
       "      <td>NaN</td>\n",
       "      <td>NaN</td>\n",
       "      <td>NaN</td>\n",
       "      <td>NaN</td>\n",
       "      <td>NaN</td>\n",
       "      <td>NaN</td>\n",
       "      <td>NaN</td>\n",
       "    </tr>\n",
       "    <tr>\n",
       "      <th>4</th>\n",
       "      <td>무안</td>\n",
       "      <td>MWX</td>\n",
       "      <td>171.0</td>\n",
       "      <td>178.0</td>\n",
       "      <td>145.0</td>\n",
       "      <td>102.0</td>\n",
       "      <td>NaN</td>\n",
       "      <td>NaN</td>\n",
       "      <td>NaN</td>\n",
       "      <td>NaN</td>\n",
       "      <td>NaN</td>\n",
       "      <td>NaN</td>\n",
       "      <td>NaN</td>\n",
       "      <td>NaN</td>\n",
       "      <td>NaN</td>\n",
       "      <td>NaN</td>\n",
       "      <td>NaN</td>\n",
       "    </tr>\n",
       "  </tbody>\n",
       "</table>\n",
       "</div>"
      ],
      "text/plain": [
       "  Unnamed: 0 Unnamed: 1     인천     김포     김해     제주  ...  포항  울산  사천  군산  광주  여수\n",
       "0         인천        ICN    NaN    NaN    NaN    NaN  ... NaN NaN NaN NaN NaN NaN\n",
       "1         김포        GMP   20.0    NaN    NaN    NaN  ... NaN NaN NaN NaN NaN NaN\n",
       "2         김해        PUS  210.0  203.0    NaN    NaN  ... NaN NaN NaN NaN NaN NaN\n",
       "3         제주        CJU  273.0  280.0  181.0    NaN  ... NaN NaN NaN NaN NaN NaN\n",
       "4         무안        MWX  171.0  178.0  145.0  102.0  ... NaN NaN NaN NaN NaN NaN\n",
       "\n",
       "[5 rows x 17 columns]"
      ]
     },
     "execution_count": 149,
     "metadata": {
      "tags": []
     },
     "output_type": "execute_result"
    }
   ],
   "source": [
    "# 공항 사이의 거리 파일 불러오기\n",
    "airport_dist = pd.read_excel('data/airport_distance.xlsx')\n",
    "airport_dist.head(5)"
   ]
  },
  {
   "cell_type": "code",
   "execution_count": 0,
   "metadata": {
    "colab": {},
    "colab_type": "code",
    "id": "yjy0mli75uC1"
   },
   "outputs": [],
   "source": [
    "# 각 공항에 해당하는 ARP 번호 입력\n",
    "arp_dict = {'김포': 'ARP1', '김해': 'ARP2', '제주': 'ARP3', '대구': 'ARP4', '울산': 'ARP5', \\\n",
    "           '청주': 'ARP6', '무안': 'ARP7', '광주': 'ARP8', '여수': 'ARP9', '양양': 'ARP10',\\\n",
    "            '포항': 'ARP11', '사천': 'ARP12', '군산': 'ARP13', '원주': 'ARP14', '인천': 'ARP15'}"
   ]
  },
  {
   "cell_type": "code",
   "execution_count": 0,
   "metadata": {
    "colab": {},
    "colab_type": "code",
    "id": "HUwvOIqa5t67"
   },
   "outputs": [],
   "source": [
    "# 실제 공항이름을 ARP 번호로 바꾸기\n",
    "kor_to_arp = []\n",
    "for i in range(len(airport_dist)):\n",
    "    kor_to_arp.append(arp_dict.get(airport_dist['Unnamed: 0'][i]))\n",
    "airport_dist['Unnamed: 0'] = kor_to_arp"
   ]
  },
  {
   "cell_type": "code",
   "execution_count": 0,
   "metadata": {
    "colab": {},
    "colab_type": "code",
    "id": "4eGH4wR15tqv"
   },
   "outputs": [],
   "source": [
    "# 열 이름 정리\n",
    "airport_dist_colist = ['airport', 'name']\n",
    "for i in range(2, len(airport_dist.columns)):\n",
    "    airport_dist_colist.append(arp_dict.get(airport_dist.columns[i]))\n",
    "airport_dist.columns = airport_dist_colist"
   ]
  },
  {
   "cell_type": "code",
   "execution_count": 0,
   "metadata": {
    "colab": {},
    "colab_type": "code",
    "id": "pNZXT-K-Y4mS"
   },
   "outputs": [],
   "source": [
    "# 행 이름 정리 및 불필요한 변수 삭제\n",
    "airport_dist.index = airport_dist['airport']\n",
    "del airport_dist['airport']\n",
    "del airport_dist['name']"
   ]
  },
  {
   "cell_type": "code",
   "execution_count": 0,
   "metadata": {
    "colab": {},
    "colab_type": "code",
    "id": "YD-TrUzw5tW9"
   },
   "outputs": [],
   "source": [
    "# 대각선 기준 반대 부분도 값 채워주기\n",
    "airport_dist2 = airport_dist.fillna(0)\n",
    "airport_dist = airport_dist2 + airport_dist2.T"
   ]
  },
  {
   "cell_type": "code",
   "execution_count": 0,
   "metadata": {
    "colab": {},
    "colab_type": "code",
    "id": "bBShdhtmkPsp"
   },
   "outputs": [],
   "source": [
    "# 해당 행의 공항과 상대공항 사이의 거리 대입\n",
    "dist_li = []\n",
    "for i in range(len(DATA)):\n",
    "    arp_now = DATA['ARP'][i]\n",
    "    odp_now = DATA['ODP'][i]\n",
    "    dist_li.append(airport_dist[arp_now][odp_now])"
   ]
  },
  {
   "cell_type": "code",
   "execution_count": 0,
   "metadata": {
    "colab": {},
    "colab_type": "code",
    "id": "JaV3W3Gr5tMO"
   },
   "outputs": [],
   "source": [
    "# 변수 생성\n",
    "onehot['DIST'] = dist_li"
   ]
  },
  {
   "cell_type": "markdown",
   "metadata": {
    "colab_type": "text",
    "id": "LdbzU-NrNjkE"
   },
   "source": [
    "### 2-11. 공항별 여객 수"
   ]
  },
  {
   "cell_type": "code",
   "execution_count": 0,
   "metadata": {
    "colab": {},
    "colab_type": "code",
    "id": "Ap9nBx-aqOlG"
   },
   "outputs": [],
   "source": [
    "# 공항별 출발/도착 여객 수 파일 불러오기\n",
    "pass_arp = pd.read_excel('data/airport_num_of_passengers.xlsx', sheet_name='ARP')\n",
    "pass_odp = pd.read_excel('data/airport_num_of_passengers.xlsx', sheet_name='ODP')"
   ]
  },
  {
   "cell_type": "code",
   "execution_count": 0,
   "metadata": {
    "colab": {},
    "colab_type": "code",
    "id": "pPhISLo22wMF"
   },
   "outputs": [],
   "source": [
    "# 실제 공항이름을 ARP 번호로 바꾸기\n",
    "kor_to_arp = []; kor_to_odp = []\n",
    "for i in range(len(pass_arp)):\n",
    "    kor_to_arp.append(arp_dict.get(pass_arp['도착'][i]))\n",
    "for j in range(len(pass_odp)):\n",
    "    kor_to_odp.append(arp_dict.get(pass_odp['출발'][j]))\n",
    "pass_arp['도착'] = kor_to_arp\n",
    "pass_odp['출발'] = kor_to_odp"
   ]
  },
  {
   "cell_type": "code",
   "execution_count": 0,
   "metadata": {
    "colab": {},
    "colab_type": "code",
    "id": "T3aupS3o8rto"
   },
   "outputs": [],
   "source": [
    "# 행 이름 정리\n",
    "pass_arp.index = pass_arp['도착']\n",
    "pass_odp.index = pass_odp['출발']\n",
    "del pass_arp['도착']\n",
    "del pass_odp['출발']"
   ]
  },
  {
   "cell_type": "code",
   "execution_count": 0,
   "metadata": {
    "colab": {},
    "colab_type": "code",
    "id": "mC4QqsAfAqma"
   },
   "outputs": [],
   "source": [
    "# 여객 수 NA인 경우 0으로 처리\n",
    "pass_arp = pass_arp.fillna(0)\n",
    "pass_odp = pass_odp.fillna(0)"
   ]
  },
  {
   "cell_type": "code",
   "execution_count": 4,
   "metadata": {},
   "outputs": [
    {
     "data": {
      "image/png": "[encoded data removed]",
      "text/plain": [
       "<IPython.core.display.Image object>"
      ]
     },
     "execution_count": 4,
     "metadata": {},
     "output_type": "execute_result"
    }
   ],
   "source": [
    "# 그래프로 비교해보니 매년 7월과 9월 값 유사 --> 2019-9월 test 값에 2019-7월 값 대입하기로!\n",
    "Image(\"여객수월별평균비교.png\") # code안에서 나오게 할 때"
   ]
  },
  {
   "cell_type": "code",
   "execution_count": 0,
   "metadata": {
    "colab": {},
    "colab_type": "code",
    "id": "fAuY56oVWQ7o"
   },
   "outputs": [],
   "source": [
    "# 2019-9월 test 값에 2019-7월 값 대입\n",
    "pass_arp[dt.datetime(2019,9,1)] = pass_arp[dt.datetime(2019,7,1)]\n",
    "pass_odp[dt.datetime(2019,9,1)] = pass_odp[dt.datetime(2019,7,1)]"
   ]
  },
  {
   "cell_type": "code",
   "execution_count": 0,
   "metadata": {
    "colab": {},
    "colab_type": "code",
    "id": "2LTKfDNx8dmL"
   },
   "outputs": [],
   "source": [
    "# 해당 행의 공항에 대응하는 여객 수 대입\n",
    "pass_arp_li = []; pass_odp_li = []\n",
    "for i in range(len(DATA)):\n",
    "    pass_arp_li.append(pass_arp.loc[DATA['ARP'][i]][dt.datetime(DATA['SDT_YY'][i], DATA['SDT_MM'][i], 1)])\n",
    "    pass_odp_li.append(pass_odp.loc[DATA['ODP'][i]][dt.datetime(DATA['SDT_YY'][i], DATA['SDT_MM'][i], 1)])"
   ]
  },
  {
   "cell_type": "code",
   "execution_count": 0,
   "metadata": {
    "colab": {},
    "colab_type": "code",
    "id": "FJo2jmNS0O8t"
   },
   "outputs": [],
   "source": [
    "# 변수 생성\n",
    "onehot['PASS_ARP'] = pass_arp_li\n",
    "onehot['PASS_ODP'] = pass_odp_li"
   ]
  },
  {
   "cell_type": "markdown",
   "metadata": {},
   "source": [
    "## 3. Train & Test 데이터 분리 및 file 저장 "
   ]
  },
  {
   "cell_type": "code",
   "execution_count": null,
   "metadata": {},
   "outputs": [],
   "source": [
    "# DLY 변수와 feature engineering한 변수들 데이터 합치기\n",
    "FINAL = pd.concat([onehot, DATA['DLY']], axis=1)"
   ]
  },
  {
   "cell_type": "code",
   "execution_count": null,
   "metadata": {},
   "outputs": [],
   "source": [
    "# N과 Y로 되어 있는 DLY 변수를 0, 1로 변환\n",
    "dly_li = []\n",
    "for i in range(len(FINAL)):\n",
    "    if FINAL['DLY'][i] == 'N':\n",
    "        dly_li.append(0)\n",
    "    elif FINAL['DLY'][i] == 'Y':\n",
    "        dly_li.append(1)\n",
    "    else:\n",
    "        dly_li.append(FINAL['DLY'][i])"
   ]
  },
  {
   "cell_type": "code",
   "execution_count": null,
   "metadata": {},
   "outputs": [],
   "source": [
    "# DLY 변수값 존재 여부에 따라 train / test 데이터 분할\n",
    "TEST_FINAL = FINAL[FINAL['DLY'].isna()]\n",
    "TRAIN_FINAL = FINAL[-FINAL['DLY'].isna()]"
   ]
  },
  {
   "cell_type": "code",
   "execution_count": 0,
   "metadata": {
    "colab": {},
    "colab_type": "code",
    "id": "EMBSm-mn4x1k"
   },
   "outputs": [],
   "source": [
    "# 최종 데이터 파일로 저장\n",
    "TEST_FINAL.to_csv('data/test_FINAL.csv', index=False, encoding='CP949')\n",
    "TRAIN_FINAL.to_csv('data/train_FINAL.csv', index=False, encoding='CP949')"
   ]
  }
 ],
 "metadata": {
  "colab": {
   "collapsed_sections": [
    "zV-JyWbMpc9I",
    "MUQPqbXENeI6",
    "L1R0xw7d3Q90"
   ],
   "machine_shape": "hm",
   "name": "190901 feature engineering.ipynb",
   "provenance": [],
   "version": "0.3.2"
  },
  "kernelspec": {
   "display_name": "Python 3",
   "language": "python",
   "name": "python3"
  },
  "language_info": {
   "codemirror_mode": {
    "name": "ipython",
    "version": 3
   },
   "file_extension": ".py",
   "mimetype": "text/x-python",
   "name": "python",
   "nbconvert_exporter": "python",
   "pygments_lexer": "ipython3",
   "version": "3.7.3"
  }
 },
 "nbformat": 4,
 "nbformat_minor": 1
}
